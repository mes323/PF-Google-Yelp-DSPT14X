{
 "cells": [
  {
   "cell_type": "markdown",
   "id": "2d491034",
   "metadata": {},
   "source": [
    "### ETL Review 5 estados - GMaps"
   ]
  },
  {
   "cell_type": "code",
   "execution_count": null,
   "id": "21d1bb0d",
   "metadata": {},
   "outputs": [],
   "source": [
    "import os\n",
    "import pandas as pd\n",
    "import gc "
   ]
  },
  {
   "cell_type": "markdown",
   "id": "3918610c",
   "metadata": {},
   "source": [
    "#### Columbia"
   ]
  },
  {
   "cell_type": "code",
   "execution_count": null,
   "id": "15a4f50c",
   "metadata": {},
   "outputs": [],
   "source": [
    "# Ruta donde están los archivos JSON\n",
    "json_folder_path = r\"C:/Users/jano_/Documents/Proyecto Final Grupal/Google Maps/reviews-estados/review-District_of_Columbia\"\n",
    "\n",
    "# Lista de archivos JSON en la carpeta\n",
    "json_files = [f for f in os.listdir(json_folder_path) if f.endswith('.json')]\n",
    "\n",
    "# Ruta de destino para los archivos Parquet\n",
    "parquet_folder_path = r\"C:/Users/jano_/Documents/Proyecto Final Grupal/Google Maps/reviews-estados/review-District_of_Columbia\"\n",
    "\n",
    "# Iterar sobre cada archivo JSON\n",
    "for json_file in json_files:\n",
    "    # Construir la ruta completa del archivo JSON\n",
    "    json_file_path = os.path.join(json_folder_path, json_file)\n",
    "    \n",
    "    # Leer el archivo JSON con Pandas\n",
    "    df = pd.read_json(json_file_path, lines=True)\n",
    "    \n",
    "    # Crear la ruta de destino Parquet, usando el nombre del archivo JSON\n",
    "    parquet_file_path = os.path.join(parquet_folder_path, json_file.replace('.json', '.parquet'))\n",
    "    \n",
    "    df_parquet = df\n",
    "\n",
    "    # Guardar el DataFrame transformado en Parquet\n",
    "    df_parquet.to_parquet(parquet_file_path, engine='pyarrow', index=False)\n",
    "    \n",
    "    # Limpiar memoria eliminando el DataFrame\n",
    "    del df\n",
    "    gc.collect()  # Llamada al recolector de basura para liberar memoria\n",
    "\n",
    "    print(f\"Archivo {json_file} procesado y guardado como Parquet en {parquet_file_path}\")"
   ]
  },
  {
   "cell_type": "code",
   "execution_count": null,
   "id": "fae682e8",
   "metadata": {},
   "outputs": [],
   "source": [
    "parquet_files = [f for f in os.listdir(parquet_folder_path) if f.endswith('.parquet')]\n",
    "\n",
    "df_District_of_Columbia = pd.DataFrame()\n",
    "\n",
    "# Leer y procesar cada archivo Parquet de manera incremental\n",
    "for file in parquet_files:\n",
    "    file_path = os.path.join(parquet_folder_path, file)\n",
    "    \n",
    "    # Leer el archivo Parquet\n",
    "    df = pd.read_parquet(file_path)\n",
    "    \n",
    "    # Concatenar al DataFrame total\n",
    "    df_District_of_Columbia = pd.concat([df_District_of_Columbia, df], ignore_index=True)\n",
    "    \n",
    "    # Limpiar memoria eliminando el DataFrame temporal\n",
    "    del df\n",
    "    gc.collect()  # Forzar la recolección de basura\n",
    "\n",
    "    print(f\"Archivo {file} procesado y agregado\")\n",
    "\n",
    "print(\"Todos los archivos fueron procesados\")"
   ]
  },
  {
   "cell_type": "code",
   "execution_count": null,
   "id": "9402993b",
   "metadata": {},
   "outputs": [],
   "source": [
    "df_District_of_Columbia"
   ]
  },
  {
   "cell_type": "code",
   "execution_count": null,
   "id": "65ea20cd",
   "metadata": {},
   "outputs": [],
   "source": [
    "df_District_of_Columbia = df_District_of_Columbia.drop(columns=[\"pics\", \"resp\"])"
   ]
  },
  {
   "cell_type": "markdown",
   "id": "d99405c7",
   "metadata": {},
   "source": []
  }
 ],
 "metadata": {
  "kernelspec": {
   "display_name": "proyecto_final",
   "language": "python",
   "name": "python3"
  },
  "language_info": {
   "codemirror_mode": {
    "name": "ipython",
    "version": 3
   },
   "file_extension": ".py",
   "mimetype": "text/x-python",
   "name": "python",
   "nbconvert_exporter": "python",
   "pygments_lexer": "ipython3",
   "version": "3.10.11"
  }
 },
 "nbformat": 4,
 "nbformat_minor": 5
}
