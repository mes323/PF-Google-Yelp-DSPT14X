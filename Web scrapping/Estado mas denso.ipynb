{
 "cells": [
  {
   "cell_type": "code",
   "execution_count": 10,
   "id": "b10c0a58",
   "metadata": {},
   "outputs": [
    {
     "name": "stdout",
     "output_type": "stream",
     "text": [
      "El estado mas denso es: District of Columbia con 11304.02 personas por milla cuadrada.\n",
      "El segundo estado más denso es: New Jersey con 1263.12 personas por milla cuadrada.\n"
     ]
    }
   ],
   "source": [
    "import requests\n",
    "import pandas as pd\n",
    "\n",
    "#Esta llave se debe pedir directamente con census.gov\n",
    "API_KEY = \"17e47fbc1d67e71f5a4d26351e5bd1dc5d08ebd8\"\n",
    "\n",
    "# Por constitucion cada 10 años se realiza el censo... por lo tanto sólo podemos accder al 2020 y no 2024.\n",
    "pop_url = \"https://api.census.gov/data/2020/dec/pl\"\n",
    "params = {\n",
    "    \"get\": \"NAME,P1_001N\",  # NAME = state name, P1_001N = total population\n",
    "    \"for\": \"state:*\",\n",
    "    \"key\": API_KEY\n",
    "}\n",
    "\n",
    "response = requests.get(pop_url, params=params)\n",
    "\n",
    "\n",
    "\n",
    "try:\n",
    "    data = response.json()\n",
    "except ValueError as e:\n",
    "    print(\"Error decoding JSON:\", e)\n",
    "    exit()\n",
    "\n",
    "# Convertir a un data frame\n",
    "columns = data[0]\n",
    "rows = data[1:]\n",
    "df = pd.DataFrame(rows, columns=columns)\n",
    "df[\"P1_001N\"] = df[\"P1_001N\"].astype(int)\n",
    "\n",
    "# 3. Crear diccionario de manera manual (en millas cuadradas) para cada estado\n",
    "# Fuente: https://data.census.gov/table?q=table%20of%20each%20state%20in%20square%20miles\n",
    "land_area_sq_mi = {\n",
    "    'Alabama': 50645, 'Alaska': 571052, 'Arizona': 113655, 'Arkansas': 51993,\n",
    "    'California': 155859, 'Colorado': 103638, 'Connecticut': 4842, 'Delaware': 1949,\n",
    "    'Florida': 53654, 'Georgia': 57717, 'Hawaii': 6423, 'Idaho': 82645,\n",
    "    'Illinois': 55513, 'Indiana': 35825, 'Iowa': 55853, 'Kansas': 81759,\n",
    "    'Kentucky': 39485, 'Louisiana': 43216, 'Maine': 30845, 'Maryland': 9711,\n",
    "    'Massachusetts': 7801, 'Michigan': 56610, 'Minnesota': 79631, 'Mississippi': 46924,\n",
    "    'Missouri': 68746, 'Montana': 145550, 'Nebraska': 76814, 'Nevada': 109860,\n",
    "    'New Hampshire': 8953, 'New Jersey': 7354, 'New Mexico': 121312, 'New York': 47123,\n",
    "    'North Carolina': 48624, 'North Dakota': 68994, 'Ohio': 40858, 'Oklahoma': 68596,\n",
    "    'Oregon': 95996, 'Pennsylvania': 44742, 'Rhode Island': 1034, 'South Carolina': 30064,\n",
    "    'South Dakota': 75807, 'Tennessee': 41233, 'Texas': 261270, 'Utah': 82596,\n",
    "    'Vermont': 9217, 'Virginia': 39482, 'Washington': 66455, 'West Virginia': 24041,\n",
    "    'Wisconsin': 54167, 'Wyoming': 97088, 'District of Columbia': 61\n",
    "}\n",
    "\n",
    "# Mapear el area al data frame\n",
    "df[\"land_area\"] = df[\"NAME\"].map(land_area_sq_mi)\n",
    "\n",
    "# Se calcula la densidad\n",
    "df[\"density\"] = df[\"P1_001N\"] / df[\"land_area\"]\n",
    "\n",
    "# 6. Sort and find the most dense\n",
    "mas_denso = df.sort_values(\"density\", ascending=False).iloc[0]\n",
    "segundo_mas_denso= df.sort_values(\"density\", ascending=False).iloc[1]\n",
    "print(f\"El estado mas denso es: {mas_denso['NAME']} con {mas_denso['density']:.2f} personas por milla cuadrada.\")\n",
    "print(f\"El segundo estado más denso es: {segundo_mas_denso['NAME']} con {segundo_mas_denso['density']:.2f} personas por milla cuadrada.\")\n"
   ]
  }
 ],
 "metadata": {
  "kernelspec": {
   "display_name": "Python 3",
   "language": "python",
   "name": "python3"
  },
  "language_info": {
   "codemirror_mode": {
    "name": "ipython",
    "version": 3
   },
   "file_extension": ".py",
   "mimetype": "text/x-python",
   "name": "python",
   "nbconvert_exporter": "python",
   "pygments_lexer": "ipython3",
   "version": "3.11.9"
  }
 },
 "nbformat": 4,
 "nbformat_minor": 5
}
