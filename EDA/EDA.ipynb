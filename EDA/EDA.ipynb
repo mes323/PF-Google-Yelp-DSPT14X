{
 "cells": [
  {
   "cell_type": "code",
   "execution_count": null,
   "id": "b07bf28b",
   "metadata": {},
   "outputs": [],
   "source": [
    "import pandas as pd"
   ]
  }
 ],
 "metadata": {
  "kernelspec": {
   "display_name": "proyecto_final",
   "language": "python",
   "name": "python3"
  },
  "language_info": {
   "name": "python",
   "version": "3.10.11"
  }
 },
 "nbformat": 4,
 "nbformat_minor": 5
}
