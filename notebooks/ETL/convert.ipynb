{
 "cells": [
  {
   "cell_type": "code",
   "execution_count": 2,
   "id": "7f605cc7",
   "metadata": {},
   "outputs": [
    {
     "name": "stdout",
     "output_type": "stream",
     "text": [
      "Procesado: D:\\tmp\\gmaps_metadata_bulk\\1.json → D:\\tmp\\gmaps_metadata_bulk\\1.parquet\n",
      "Procesado: D:\\tmp\\gmaps_metadata_bulk\\10.json → D:\\tmp\\gmaps_metadata_bulk\\10.parquet\n",
      "Procesado: D:\\tmp\\gmaps_metadata_bulk\\11.json → D:\\tmp\\gmaps_metadata_bulk\\11.parquet\n",
      "Procesado: D:\\tmp\\gmaps_metadata_bulk\\2.json → D:\\tmp\\gmaps_metadata_bulk\\2.parquet\n",
      "Procesado: D:\\tmp\\gmaps_metadata_bulk\\3.json → D:\\tmp\\gmaps_metadata_bulk\\3.parquet\n",
      "Procesado: D:\\tmp\\gmaps_metadata_bulk\\4.json → D:\\tmp\\gmaps_metadata_bulk\\4.parquet\n",
      "Procesado: D:\\tmp\\gmaps_metadata_bulk\\5.json → D:\\tmp\\gmaps_metadata_bulk\\5.parquet\n",
      "Procesado: D:\\tmp\\gmaps_metadata_bulk\\6.json → D:\\tmp\\gmaps_metadata_bulk\\6.parquet\n",
      "Procesado: D:\\tmp\\gmaps_metadata_bulk\\7.json → D:\\tmp\\gmaps_metadata_bulk\\7.parquet\n",
      "Procesado: D:\\tmp\\gmaps_metadata_bulk\\8.json → D:\\tmp\\gmaps_metadata_bulk\\8.parquet\n",
      "Procesado: D:\\tmp\\gmaps_metadata_bulk\\9.json → D:\\tmp\\gmaps_metadata_bulk\\9.parquet\n"
     ]
    }
   ],
   "source": [
    "import os\n",
    "import json\n",
    "import pandas as pd\n",
    "\n",
    "def convert_json_to_parquet(input_path, output_path):\n",
    "    \"\"\"Convierte un archivo NDJSON (JSON lines) en Parquet y lo guarda en la ruta de destino.\"\"\"\n",
    "    df = pd.read_json(input_path, lines=True)\n",
    "    df.to_parquet(output_path, engine=\"pyarrow\")\n",
    "    print(f\"Procesado: {input_path} → {output_path}\")\n",
    "\n",
    "\n",
    "# Ruta de la carpeta\n",
    "folder = r\"D:\\tmp\\gmaps_metadata_bulk\"\n",
    "\n",
    "# Iterar sobre todos los archivos JSON de la carpeta\n",
    "for filename in os.listdir(folder):\n",
    "    if filename.lower().endswith(\".json\"):\n",
    "        input_path = os.path.join(folder, filename)\n",
    "        # Crear el nombre del archivo parquet\n",
    "        parquet_filename = os.path.splitext(filename)[0] + \".parquet\"\n",
    "        output_path = os.path.join(folder, parquet_filename)\n",
    "        try:\n",
    "            convert_json_to_parquet(input_path, output_path)\n",
    "        except Exception as e:\n",
    "            print(f\"Error procesando {filename}: {e}\")"
   ]
  },
  {
   "cell_type": "code",
   "execution_count": 3,
   "id": "8a4142d1",
   "metadata": {},
   "outputs": [
    {
     "name": "stdout",
     "output_type": "stream",
     "text": [
      "Particionado D:\\tmp\\gmaps_metadata_bulk\\11.parquet en:\n",
      "  - D:\\tmp\\gmaps_metadata_bulk\\12.parquet (137500 registros)\n",
      "  - D:\\tmp\\gmaps_metadata_bulk\\13.parquet (137501 registros)\n"
     ]
    }
   ],
   "source": [
    "import pandas as pd\n",
    "import os\n",
    "\n",
    "# Carpeta de trabajo\n",
    "folder = r\"D:\\tmp\\gmaps_metadata_bulk\"\n",
    "input_file = os.path.join(folder, \"11.parquet\")\n",
    "output_file_1 = os.path.join(folder, \"12.parquet\")\n",
    "output_file_2 = os.path.join(folder, \"13.parquet\")\n",
    "\n",
    "# Leer el archivo parquet completo\n",
    "df = pd.read_parquet(input_file)\n",
    "\n",
    "# Calcular el punto de corte\n",
    "mid_point = len(df) // 2\n",
    "\n",
    "# Particionar en dos dataframes\n",
    "df1 = df.iloc[:mid_point]\n",
    "df2 = df.iloc[mid_point:]\n",
    "\n",
    "# Guardar los archivos particionados\n",
    "df1.to_parquet(output_file_1, engine=\"pyarrow\")\n",
    "df2.to_parquet(output_file_2, engine=\"pyarrow\")\n",
    "\n",
    "print(f\"Particionado {input_file} en:\")\n",
    "print(f\"  - {output_file_1} ({len(df1)} registros)\")\n",
    "print(f\"  - {output_file_2} ({len(df2)} registros)\")\n"
   ]
  },
  {
   "cell_type": "code",
   "execution_count": 1,
   "id": "055339fb",
   "metadata": {},
   "outputs": [
    {
     "ename": "FileNotFoundError",
     "evalue": "[Errno 2] No such file or directory: '/home/jose/credenciales/datawave-proyecto-final-99ef0bcb5163.json'",
     "output_type": "error",
     "traceback": [
      "\u001b[1;31m---------------------------------------------------------------------------\u001b[0m",
      "\u001b[1;31mFileNotFoundError\u001b[0m                         Traceback (most recent call last)",
      "Cell \u001b[1;32mIn[1], line 12\u001b[0m\n\u001b[0;32m      9\u001b[0m RAW_PREFIX \u001b[38;5;241m=\u001b[39m \u001b[38;5;124m'\u001b[39m\u001b[38;5;124mraw/gmaps_metadata/\u001b[39m\u001b[38;5;124m'\u001b[39m\n\u001b[0;32m     10\u001b[0m LOCAL_FOLDER \u001b[38;5;241m=\u001b[39m \u001b[38;5;124m\"\u001b[39m\u001b[38;5;124m/mnt/d/tmp/gmaps_metadata_bulk\u001b[39m\u001b[38;5;124m\"\u001b[39m\n\u001b[1;32m---> 12\u001b[0m credentials \u001b[38;5;241m=\u001b[39m \u001b[43mservice_account\u001b[49m\u001b[38;5;241;43m.\u001b[39;49m\u001b[43mCredentials\u001b[49m\u001b[38;5;241;43m.\u001b[39;49m\u001b[43mfrom_service_account_file\u001b[49m\u001b[43m(\u001b[49m\u001b[43mGOOGLE_APPLICATION_CREDENTIALS\u001b[49m\u001b[43m)\u001b[49m\n\u001b[0;32m     13\u001b[0m storage_client \u001b[38;5;241m=\u001b[39m storage\u001b[38;5;241m.\u001b[39mClient(credentials\u001b[38;5;241m=\u001b[39mcredentials, project\u001b[38;5;241m=\u001b[39mPROJECT_ID)\n\u001b[0;32m     14\u001b[0m \u001b[38;5;28mprint\u001b[39m(os\u001b[38;5;241m.\u001b[39mlistdir(LOCAL_FOLDER))\n",
      "File \u001b[1;32mc:\\Users\\Pc\\AppData\\Local\\Programs\\Python\\Python312\\Lib\\site-packages\\google\\oauth2\\service_account.py:259\u001b[0m, in \u001b[0;36mCredentials.from_service_account_file\u001b[1;34m(cls, filename, **kwargs)\u001b[0m\n\u001b[0;32m    247\u001b[0m \u001b[38;5;129m@classmethod\u001b[39m\n\u001b[0;32m    248\u001b[0m \u001b[38;5;28;01mdef\u001b[39;00m \u001b[38;5;21mfrom_service_account_file\u001b[39m(\u001b[38;5;28mcls\u001b[39m, filename, \u001b[38;5;241m*\u001b[39m\u001b[38;5;241m*\u001b[39mkwargs):\n\u001b[0;32m    249\u001b[0m \u001b[38;5;250m    \u001b[39m\u001b[38;5;124;03m\"\"\"Creates a Credentials instance from a service account json file.\u001b[39;00m\n\u001b[0;32m    250\u001b[0m \n\u001b[0;32m    251\u001b[0m \u001b[38;5;124;03m    Args:\u001b[39;00m\n\u001b[1;32m   (...)\u001b[0m\n\u001b[0;32m    257\u001b[0m \u001b[38;5;124;03m            credentials.\u001b[39;00m\n\u001b[0;32m    258\u001b[0m \u001b[38;5;124;03m    \"\"\"\u001b[39;00m\n\u001b[1;32m--> 259\u001b[0m     info, signer \u001b[38;5;241m=\u001b[39m \u001b[43m_service_account_info\u001b[49m\u001b[38;5;241;43m.\u001b[39;49m\u001b[43mfrom_filename\u001b[49m\u001b[43m(\u001b[49m\n\u001b[0;32m    260\u001b[0m \u001b[43m        \u001b[49m\u001b[43mfilename\u001b[49m\u001b[43m,\u001b[49m\u001b[43m \u001b[49m\u001b[43mrequire\u001b[49m\u001b[38;5;241;43m=\u001b[39;49m\u001b[43m[\u001b[49m\u001b[38;5;124;43m\"\u001b[39;49m\u001b[38;5;124;43mclient_email\u001b[39;49m\u001b[38;5;124;43m\"\u001b[39;49m\u001b[43m,\u001b[49m\u001b[43m \u001b[49m\u001b[38;5;124;43m\"\u001b[39;49m\u001b[38;5;124;43mtoken_uri\u001b[39;49m\u001b[38;5;124;43m\"\u001b[39;49m\u001b[43m]\u001b[49m\n\u001b[0;32m    261\u001b[0m \u001b[43m    \u001b[49m\u001b[43m)\u001b[49m\n\u001b[0;32m    262\u001b[0m     \u001b[38;5;28;01mreturn\u001b[39;00m \u001b[38;5;28mcls\u001b[39m\u001b[38;5;241m.\u001b[39m_from_signer_and_info(signer, info, \u001b[38;5;241m*\u001b[39m\u001b[38;5;241m*\u001b[39mkwargs)\n",
      "File \u001b[1;32mc:\\Users\\Pc\\AppData\\Local\\Programs\\Python\\Python312\\Lib\\site-packages\\google\\auth\\_service_account_info.py:78\u001b[0m, in \u001b[0;36mfrom_filename\u001b[1;34m(filename, require, use_rsa_signer)\u001b[0m\n\u001b[0;32m     64\u001b[0m \u001b[38;5;28;01mdef\u001b[39;00m \u001b[38;5;21mfrom_filename\u001b[39m(filename, require\u001b[38;5;241m=\u001b[39m\u001b[38;5;28;01mNone\u001b[39;00m, use_rsa_signer\u001b[38;5;241m=\u001b[39m\u001b[38;5;28;01mTrue\u001b[39;00m):\n\u001b[0;32m     65\u001b[0m \u001b[38;5;250m    \u001b[39m\u001b[38;5;124;03m\"\"\"Reads a Google service account JSON file and returns its parsed info.\u001b[39;00m\n\u001b[0;32m     66\u001b[0m \n\u001b[0;32m     67\u001b[0m \u001b[38;5;124;03m    Args:\u001b[39;00m\n\u001b[1;32m   (...)\u001b[0m\n\u001b[0;32m     76\u001b[0m \u001b[38;5;124;03m            info and a signer instance.\u001b[39;00m\n\u001b[0;32m     77\u001b[0m \u001b[38;5;124;03m    \"\"\"\u001b[39;00m\n\u001b[1;32m---> 78\u001b[0m     \u001b[38;5;28;01mwith\u001b[39;00m \u001b[43mio\u001b[49m\u001b[38;5;241;43m.\u001b[39;49m\u001b[43mopen\u001b[49m\u001b[43m(\u001b[49m\u001b[43mfilename\u001b[49m\u001b[43m,\u001b[49m\u001b[43m \u001b[49m\u001b[38;5;124;43m\"\u001b[39;49m\u001b[38;5;124;43mr\u001b[39;49m\u001b[38;5;124;43m\"\u001b[39;49m\u001b[43m,\u001b[49m\u001b[43m \u001b[49m\u001b[43mencoding\u001b[49m\u001b[38;5;241;43m=\u001b[39;49m\u001b[38;5;124;43m\"\u001b[39;49m\u001b[38;5;124;43mutf-8\u001b[39;49m\u001b[38;5;124;43m\"\u001b[39;49m\u001b[43m)\u001b[49m \u001b[38;5;28;01mas\u001b[39;00m json_file:\n\u001b[0;32m     79\u001b[0m         data \u001b[38;5;241m=\u001b[39m json\u001b[38;5;241m.\u001b[39mload(json_file)\n\u001b[0;32m     80\u001b[0m         \u001b[38;5;28;01mreturn\u001b[39;00m data, from_dict(data, require\u001b[38;5;241m=\u001b[39mrequire, use_rsa_signer\u001b[38;5;241m=\u001b[39muse_rsa_signer)\n",
      "\u001b[1;31mFileNotFoundError\u001b[0m: [Errno 2] No such file or directory: '/home/jose/credenciales/datawave-proyecto-final-99ef0bcb5163.json'"
     ]
    }
   ],
   "source": [
    "# archivo test_gcs.py\n",
    "import os\n",
    "from google.cloud import storage\n",
    "from google.oauth2 import service_account\n",
    "\n",
    "GOOGLE_APPLICATION_CREDENTIALS = '/home/jose/credenciales/datawave-proyecto-final-99ef0bcb5163.json'\n",
    "PROJECT_ID = 'datawave-proyecto-final'\n",
    "BUCKET_NAME = 'proyecto-datawave-dspt14'\n",
    "RAW_PREFIX = 'raw/gmaps_metadata/'\n",
    "LOCAL_FOLDER = \"/mnt/d/tmp/gmaps_metadata_bulk\"\n",
    "\n",
    "credentials = service_account.Credentials.from_service_account_file(GOOGLE_APPLICATION_CREDENTIALS)\n",
    "storage_client = storage.Client(credentials=credentials, project=PROJECT_ID)\n",
    "print(os.listdir(LOCAL_FOLDER))\n"
   ]
  },
  {
   "cell_type": "code",
   "execution_count": 3,
   "id": "a309411e",
   "metadata": {},
   "outputs": [
    {
     "name": "stdout",
     "output_type": "stream",
     "text": [
      "False\n"
     ]
    }
   ],
   "source": [
    "import os\n",
    "print(os.path.exists('/home/jose/credenciales/datawave-proyecto-final-99ef0bcb5163.json'))\n"
   ]
  }
 ],
 "metadata": {
  "kernelspec": {
   "display_name": "Python 3",
   "language": "python",
   "name": "python3"
  },
  "language_info": {
   "codemirror_mode": {
    "name": "ipython",
    "version": 3
   },
   "file_extension": ".py",
   "mimetype": "text/x-python",
   "name": "python",
   "nbconvert_exporter": "python",
   "pygments_lexer": "ipython3",
   "version": "3.12.4"
  }
 },
 "nbformat": 4,
 "nbformat_minor": 5
}
