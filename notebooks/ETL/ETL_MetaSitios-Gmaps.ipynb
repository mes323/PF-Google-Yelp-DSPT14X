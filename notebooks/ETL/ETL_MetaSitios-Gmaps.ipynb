{
 "cells": [
  {
   "cell_type": "code",
   "execution_count": 1,
   "id": "ed493882",
   "metadata": {},
   "outputs": [],
   "source": [
    "import os\n",
    "import pandas as pd\n",
    "import gc\n",
    "import re \n",
    "import ast"
   ]
  },
  {
   "cell_type": "code",
   "execution_count": 2,
   "id": "8c4f91cc",
   "metadata": {},
   "outputs": [],
   "source": [
    "# Ruta donde están los archivos JSON\n",
    "json_folder_path = r\"C:/Users/jano_/Documents/Proyecto Final Grupal/metadata-sitios\"\n",
    "\n",
    "# Ruta de destino para los archivos Parquet\n",
    "parquet_folder_path = r\"C:/Users/jano_/Documents/Proyecto Final Grupal/metadata-sitios\""
   ]
  },
  {
   "cell_type": "code",
   "execution_count": 3,
   "id": "06136797",
   "metadata": {},
   "outputs": [
    {
     "name": "stdout",
     "output_type": "stream",
     "text": [
      "Archivo 1.json procesado y guardado como Parquet en C:/Users/jano_/Documents/Proyecto Final Grupal/metadata-sitios\\1.parquet\n",
      "Archivo 10.json procesado y guardado como Parquet en C:/Users/jano_/Documents/Proyecto Final Grupal/metadata-sitios\\10.parquet\n",
      "Archivo 11.json procesado y guardado como Parquet en C:/Users/jano_/Documents/Proyecto Final Grupal/metadata-sitios\\11.parquet\n",
      "Archivo 2.json procesado y guardado como Parquet en C:/Users/jano_/Documents/Proyecto Final Grupal/metadata-sitios\\2.parquet\n",
      "Archivo 3.json procesado y guardado como Parquet en C:/Users/jano_/Documents/Proyecto Final Grupal/metadata-sitios\\3.parquet\n",
      "Archivo 4.json procesado y guardado como Parquet en C:/Users/jano_/Documents/Proyecto Final Grupal/metadata-sitios\\4.parquet\n",
      "Archivo 5.json procesado y guardado como Parquet en C:/Users/jano_/Documents/Proyecto Final Grupal/metadata-sitios\\5.parquet\n",
      "Archivo 6.json procesado y guardado como Parquet en C:/Users/jano_/Documents/Proyecto Final Grupal/metadata-sitios\\6.parquet\n",
      "Archivo 7.json procesado y guardado como Parquet en C:/Users/jano_/Documents/Proyecto Final Grupal/metadata-sitios\\7.parquet\n",
      "Archivo 8.json procesado y guardado como Parquet en C:/Users/jano_/Documents/Proyecto Final Grupal/metadata-sitios\\8.parquet\n",
      "Archivo 9.json procesado y guardado como Parquet en C:/Users/jano_/Documents/Proyecto Final Grupal/metadata-sitios\\9.parquet\n"
     ]
    }
   ],
   "source": [
    "# Lista de archivos JSON en la carpeta\n",
    "json_files = [f for f in os.listdir(json_folder_path) if f.endswith('.json')]\n",
    "\n",
    "# Iterar sobre cada archivo JSON\n",
    "for json_file in json_files:\n",
    "    # Construir la ruta completa del archivo JSON\n",
    "    json_file_path = os.path.join(json_folder_path, json_file)\n",
    "    \n",
    "    # Leer el archivo JSON con Pandas\n",
    "    df = pd.read_json(json_file_path, lines=True)\n",
    "    \n",
    "    # Crear la ruta de destino Parquet, usando el nombre del archivo JSON\n",
    "    parquet_file_path = os.path.join(parquet_folder_path, json_file.replace('.json', '.parquet'))\n",
    "    \n",
    "    df_parquet = df\n",
    "\n",
    "    # Guardar el DataFrame transformado en Parquet\n",
    "    df_parquet.to_parquet(parquet_file_path, engine='pyarrow', index=False)\n",
    "    \n",
    "    # Limpiar memoria eliminando el DataFrame\n",
    "    del df\n",
    "    gc.collect()  # Llamada al recolector de basura para liberar memoria\n",
    "\n",
    "    print(f\"Archivo {json_file} procesado y guardado como Parquet en {parquet_file_path}\")"
   ]
  },
  {
   "cell_type": "code",
   "execution_count": null,
   "id": "e156e19e",
   "metadata": {},
   "outputs": [
    {
     "name": "stdout",
     "output_type": "stream",
     "text": [
      "Archivo 1.parquet procesado y agregado\n",
      "Archivo 10.parquet procesado y agregado\n",
      "Archivo 11.parquet procesado y agregado\n",
      "Archivo 2.parquet procesado y agregado\n",
      "Archivo 3.parquet procesado y agregado\n",
      "Archivo 4.parquet procesado y agregado\n",
      "Archivo 5.parquet procesado y agregado\n",
      "Archivo 6.parquet procesado y agregado\n",
      "Archivo 7.parquet procesado y agregado\n",
      "Archivo 8.parquet procesado y agregado\n",
      "Archivo 9.parquet procesado y agregado\n",
      "Todos los archivos fueron procesados\n"
     ]
    }
   ],
   "source": [
    "parquet_files = [f for f in os.listdir(parquet_folder_path) if f.endswith('.parquet')]\n",
    "\n",
    "df_place_Gmaps = pd.DataFrame()\n",
    "\n",
    "# Leer y procesar cada archivo Parquet de manera incremental\n",
    "for file in parquet_files:\n",
    "    file_path = os.path.join(parquet_folder_path, file)\n",
    "    \n",
    "    # Leer el archivo Parquet\n",
    "    df = pd.read_parquet(file_path)\n",
    "    \n",
    "    # Concatenar al DataFrame total\n",
    "    df_place_Gmaps = pd.concat([df_place_Gmaps, df], ignore_index=True)\n",
    "    \n",
    "    # Limpiar memoria eliminando el DataFrame temporal\n",
    "    del df\n",
    "    gc.collect()  # Forzar la recolección de basura\n",
    "\n",
    "    print(f\"Archivo {file} procesado y agregado\")\n",
    "\n",
    "print(\"Todos los archivos fueron procesados\")"
   ]
  },
  {
   "cell_type": "code",
   "execution_count": 6,
   "id": "4e307efd",
   "metadata": {},
   "outputs": [],
   "source": [
    "df_place_Gmaps.to_parquet(r\"C:/Users/jano_/Documents/Proyecto Final Grupal/metadata-sitios/placesGmaps.parquet\", engine=\"pyarrow\", index = False)"
   ]
  }
 ],
 "metadata": {
  "kernelspec": {
   "display_name": "proyecto_final",
   "language": "python",
   "name": "python3"
  },
  "language_info": {
   "codemirror_mode": {
    "name": "ipython",
    "version": 3
   },
   "file_extension": ".py",
   "mimetype": "text/x-python",
   "name": "python",
   "nbconvert_exporter": "python",
   "pygments_lexer": "ipython3",
   "version": "3.10.11"
  }
 },
 "nbformat": 4,
 "nbformat_minor": 5
}
